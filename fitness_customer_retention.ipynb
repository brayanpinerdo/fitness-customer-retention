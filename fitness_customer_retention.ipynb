{
 "cells": [
  {
   "cell_type": "markdown",
   "id": "0a6b9940",
   "metadata": {},
   "source": [
    "# Customer Retention Strategy - Fitness App\n",
    "**TripleTen Data Analysis Bootcamp**\n",
    "\n",
    "Author: **Brayan Piñeros**\n",
    "\n",
    "---\n",
    "\n",
    "## Objective\n",
    "\n",
    "(Brief project objective — replace with final sentence before upload)\n"
   ]
  },
  {
   "cell_type": "markdown",
   "metadata": {},
   "source": [
    "# Análisis de comportamiento de usuarios, ventas y marketing\n",
    "\n",
    "## Sección 1. Visitas\n",
    "\n",
    "### ¿Cuántas personas usan la aplicación cada día, semana y mes?\n"
   ]
  },
  {
   "cell_type": "code",
   "execution_count": null,
   "metadata": {},
   "outputs": [],
   "source": [
    "import pandas as pd\n",
    "import numpy as np\n",
    "import matplotlib.pyplot as plt\n",
    "plt.rcParams.update({'figure.max_open_warning': 0})\n",
    "pd.set_option('display.float_format', lambda x: '%.2f' % x)\n",
    "\n",
    "VISITS_PATH = '/datasets/visits_log_us.csv'\n",
    "ORDERS_PATH = '/datasets/orders_log_us.csv'\n",
    "COSTS_PATH  = '/datasets/costs_us.csv'\n",
    "\n",
    "\n",
    "visits = pd.read_csv(VISITS_PATH)\n",
    "orders = pd.read_csv(ORDERS_PATH)\n",
    "costs  = pd.read_csv(COSTS_PATH)\n",
    "\n",
    "\n",
    "visits['Start Ts'] = pd.to_datetime(visits['Start Ts'], errors='coerce')\n",
    "visits['End Ts']   = pd.to_datetime(visits['End Ts'], errors='coerce')\n",
    "orders['Buy Ts']   = pd.to_datetime(orders['Buy Ts'], errors='coerce')\n",
    "costs['dt']        = pd.to_datetime(costs['dt'], errors='coerce')\n",
    "\n",
    "\n",
    "if 'Source Id' in visits.columns:\n",
    "    visits = visits.rename(columns={'Source Id':'source_id'})\n",
    "else:\n",
    "    visits = visits.rename(columns={c:c for c in visits.columns})\n",
    "\n",
    "\n",
    "visits['Uid'] = visits['Uid'].astype(str)\n",
    "visits['Device'] = visits['Device'].astype('category')\n",
    "visits['source_id'] = visits['source_id'].astype(str)\n",
    "\n",
    "orders['Uid'] = orders['Uid'].astype(str)\n",
    "orders['Revenue'] = pd.to_numeric(orders['Revenue'], errors='coerce')\n",
    "\n",
    "costs['source_id'] = costs['source_id'].astype(str)\n",
    "costs['costs'] = pd.to_numeric(costs['costs'], errors='coerce')\n",
    "\n",
    "\n",
    "print('Shapes:', visits.shape, orders.shape, costs.shape)\n",
    "print(visits[['Start Ts','End Ts']].info())\n"
   ]
  },
  {
   "cell_type": "code",
   "execution_count": null,
   "metadata": {},
   "outputs": [],
   "source": [
    "visits_daily   = visits.groupby(visits['Start Ts'].dt.date).size().rename('visits_count').reset_index()\n",
    "visits_weekly  = visits.groupby(visits['Start Ts'].dt.to_period('W')).size().rename('visits_count').reset_index()\n",
    "visits_monthly = visits.groupby(visits['Start Ts'].dt.to_period('M')).size().rename('visits_count').reset_index()\n",
    "\n",
    "\n",
    "display(visits_daily.head(20))"
   ]
  },
  {
   "cell_type": "markdown",
   "metadata": {},
   "source": [
    "### ¿Cuántas sesiones hay por día?"
   ]
  },
  {
   "cell_type": "code",
   "execution_count": null,
   "metadata": {},
   "outputs": [],
   "source": [
    "sessions_per_day = visits_daily.rename(columns={'Start Ts':'date'})  \n",
    "\n",
    "plt.figure(figsize=(12,4))\n",
    "plt.plot(pd.to_datetime(visits_daily['Start Ts']), visits_daily['visits_count'], marker='o', linewidth=0.7)\n",
    "plt.title('Visitas (sesiones) por día')\n",
    "plt.xlabel('Fecha')\n",
    "plt.ylabel('Número de sesiones')\n",
    "plt.grid(alpha=0.25)\n",
    "plt.tight_layout()\n",
    "plt.show()"
   ]
  },
  {
   "cell_type": "markdown",
   "metadata": {},
   "source": [
    "**Interpretación:**  \n",
    "Podemos observar los picos de tráfico y los días con mayor uso. Esto puede ayudar a definir cuándo lanzar campañas publicitarias o promociones, optimizando el impacto de las inversiones en marketing.\n"
   ]
  },
  {
   "cell_type": "markdown",
   "metadata": {},
   "source": [
    "### ¿Cuál es la duración de cada sesión?"
   ]
  },
  {
   "cell_type": "code",
   "execution_count": null,
   "metadata": {},
   "outputs": [],
   "source": [
    "\n",
    "visits_dur = visits.dropna(subset=['Start Ts','End Ts']).copy()\n",
    "visits_dur['session_minutes'] = (visits_dur['End Ts'] - visits_dur['Start Ts']).dt.total_seconds() / 60.0\n",
    "\n",
    "\n",
    "print(visits_dur['session_minutes'].describe())\n",
    "\n",
    "\n",
    "plt.figure(figsize=(8,4))\n",
    "plt.hist(visits_dur['session_minutes'].clip(0,60), bins=40) \n",
    "plt.title('Distribución de la duración de sesión (min, truncada a 60min)')\n",
    "plt.xlabel('Duración sesión (min)')\n",
    "plt.ylabel('Cantidad sesiones')\n",
    "plt.tight_layout()\n",
    "plt.show()"
   ]
  },
  {
   "cell_type": "markdown",
   "metadata": {},
   "source": [
    "### ¿Con qué frecuencia los usuarios regresan?"
   ]
  },
  {
   "cell_type": "code",
   "execution_count": null,
   "metadata": {},
   "outputs": [],
   "source": [
    "sessions_per_user = visits.groupby('Uid').size().rename('sessions_count').reset_index()\n",
    "\n",
    "mean_sessions_per_user = sessions_per_user['sessions_count'].mean()\n",
    "median_sessions_per_user = sessions_per_user['sessions_count'].median()\n",
    "repeat_user_rate = (sessions_per_user['sessions_count'] > 1).mean()\n",
    "\n",
    "print('Mean sessions per user:', round(mean_sessions_per_user,2))\n",
    "print('Median sessions per user:', median_sessions_per_user)\n",
    "print('Repeat user rate:', round(repeat_user_rate,3))\n",
    "\n",
    "\n",
    "plt.figure(figsize=(8,4))\n",
    "vals = sessions_per_user['sessions_count'].clip(0,10)\n",
    "plt.hist(vals, bins=range(0,12))\n",
    "plt.title('Distribución: sesiones por usuario (valores mayores a 10 agrupados en 10)')\n",
    "plt.xlabel('Número de sesiones por usuario (cap 10)')\n",
    "plt.ylabel('Usuarios')\n",
    "plt.tight_layout()\n",
    "plt.show()"
   ]
  },
  {
   "cell_type": "markdown",
   "metadata": {},
   "source": [
    "**Interpretación :**\n",
    "- `mean_sessions_per_user` muestra la media de sesiones por usuario en el periodo analizado.\n",
    "- `median_sessions_per_user` reduce sensibilidad a outliers.\n",
    "- `repeat_user_rate` es la fracción de usuarios que volvieron al menos una vez."
   ]
  },
  {
   "cell_type": "markdown",
   "metadata": {},
   "source": [
    "# VENTAS"
   ]
  },
  {
   "cell_type": "markdown",
   "metadata": {},
   "source": [
    "### ¿Cuándo empieza la gente a comprar? (Tiempo entre registro y conversión)"
   ]
  },
  {
   "cell_type": "code",
   "execution_count": null,
   "metadata": {},
   "outputs": [],
   "source": [
    "first_visit = visits.groupby('Uid')['Start Ts'].min().rename('first_visit').reset_index()\n",
    "first_order = orders.groupby('Uid')['Buy Ts'].min().rename('first_order').reset_index()\n",
    "\n",
    "cohort = first_visit.merge(first_order, on='Uid', how='left')\n",
    "cohort['conversion_days'] = (cohort['first_order'] - cohort['first_visit']).dt.days\n",
    "\n",
    "def label_conversion(d):\n",
    "    if pd.isna(d):\n",
    "        return 'No conversion'\n",
    "    if d <= 0:\n",
    "        return 'Conversion 0d'\n",
    "    if d == 1:\n",
    "        return 'Conversion 1d'\n",
    "    if d == 2:\n",
    "        return 'Conversion 2d'\n",
    "    if 3 <= d <= 7:\n",
    "        return 'Conversion 3-7d'\n",
    "    if 8 <= d <= 30:\n",
    "        return 'Conversion 8-30d'\n",
    "    return '>30d'\n",
    "\n",
    "cohort['conversion_category'] = cohort['conversion_days'].apply(label_conversion)\n",
    "\n",
    "\n",
    "conv_counts = cohort['conversion_category'].value_counts().reindex(['No conversion','Conversion 0d','Conversion 1d','Conversion 2d','Conversion 3-7d','Conversion 8-30d','>30d']).fillna(0)\n",
    "print(conv_counts)\n",
    "\n",
    "\n",
    "plt.figure(figsize=(8,5))\n",
    "bars = plt.bar(conv_counts.index, conv_counts.values)\n",
    "plt.title('Distribución de cohortes: días hasta primera compra')\n",
    "plt.xlabel('Categoría de conversión')\n",
    "plt.ylabel('Usuarios')\n",
    "plt.xticks(rotation=45, ha='right')\n",
    "\n",
    "for b in bars:\n",
    "    h = b.get_height()\n",
    "    plt.annotate(f'{int(h):,}', xy=(b.get_x() + b.get_width()/2, h), xytext=(0,3), textcoords='offset points', ha='center', fontsize=9)\n",
    "plt.tight_layout()\n",
    "plt.show()"
   ]
  },
  {
   "cell_type": "markdown",
   "metadata": {},
   "source": [
    "### ¿Cuántos pedidos hacen durante un período de tiempo dado?"
   ]
  },
  {
   "cell_type": "code",
   "execution_count": null,
   "metadata": {},
   "outputs": [],
   "source": [
    "orders_per_day = orders.groupby(orders['Buy Ts'].dt.date).size().rename('orders_count').reset_index()\n",
    "orders_per_month = orders.groupby(orders['Buy Ts'].dt.to_period('M')).size().rename('orders_count').reset_index()\n",
    "\n",
    "\n",
    "plt.figure(figsize=(10,4))\n",
    "plt.plot(pd.to_datetime(orders_per_month['Buy Ts'].astype(str)), orders_per_month['orders_count'], marker='o')\n",
    "plt.title('Pedidos por mes')\n",
    "plt.xlabel('Mes')\n",
    "plt.ylabel('Número de pedidos')\n",
    "plt.tight_layout()\n",
    "plt.show()"
   ]
  },
  {
   "cell_type": "markdown",
   "metadata": {},
   "source": [
    "### ¿Cuál es el tamaño promedio de compra?"
   ]
  },
  {
   "cell_type": "code",
   "execution_count": null,
   "metadata": {},
   "outputs": [],
   "source": [
    "\n",
    "aov = orders['Revenue'].mean()\n",
    "print('AOV:', round(aov,2))\n",
    "\n",
    "ltv_per_user = orders.groupby('Uid')['Revenue'].sum().rename('ltv').reset_index()\n",
    "ltv_mean = ltv_per_user['ltv'].mean()\n",
    "print('LTV promedio por usuario:', round(ltv_mean,2))\n",
    "\n",
    "\n",
    "cohort_with_ltv = first_visit.merge(ltv_per_user, on='Uid', how='left')\n",
    "cohort_with_ltv['cohort_month'] = cohort_with_ltv['first_visit'].dt.to_period('M').astype(str)\n",
    "ltv_by_cohort = cohort_with_ltv.groupby('cohort_month')['ltv'].agg(['count','mean','sum']).reset_index().rename(columns={'count':'customers','mean':'ltv_mean','sum':'ltv_sum'})\n",
    "print(ltv_by_cohort.sort_values('cohort_month').head(12))\n",
    "\n",
    "plt.figure(figsize=(10,4))\n",
    "plt.bar(ltv_by_cohort['cohort_month'], ltv_by_cohort['ltv_mean'])\n",
    "plt.xticks(rotation=45, ha='right')\n",
    "plt.title('LTV medio por cohorte (mes de primera visita)')\n",
    "plt.xlabel('Cohorte (Mes)')\n",
    "plt.ylabel('LTV medio ($)')\n",
    "plt.tight_layout()\n",
    "plt.show()\n"
   ]
  },
  {
   "cell_type": "markdown",
   "metadata": {},
   "source": [
    "# MARKETING"
   ]
  },
  {
   "cell_type": "markdown",
   "metadata": {},
   "source": [
    "### 1. ¿Cuánto dinero se gastó? (Total/por fuente de adquisición/a lo largo del tiempo)"
   ]
  },
  {
   "cell_type": "code",
   "execution_count": null,
   "metadata": {},
   "outputs": [],
   "source": [
    "\n",
    "total_spent = costs['costs'].sum()\n",
    "spend_by_source = costs.groupby('source_id')['costs'].sum().reset_index().rename(columns={'costs':'total_cost'})\n",
    "spend_over_time = costs.groupby('dt')['costs'].sum().reset_index().rename(columns={'costs':'daily_spend'})\n",
    "\n",
    "print('Total marketing spend:', round(total_spent,2))\n",
    "display(spend_by_source.sort_values('total_cost', ascending=False).head(20))\n",
    "\n",
    "plt.figure(figsize=(12,4))\n",
    "plt.plot(spend_over_time['dt'], spend_over_time['daily_spend'], marker='o', linewidth=0.7)\n",
    "plt.title('Gasto en marketing a lo largo del tiempo')\n",
    "plt.xlabel('Fecha')\n",
    "plt.ylabel('Gasto diario ($)')\n",
    "plt.grid(alpha=0.2)\n",
    "plt.tight_layout()\n",
    "plt.show()"
   ]
  },
  {
   "cell_type": "markdown",
   "metadata": {},
   "source": [
    "### 2. ¿Cuál fue el costo de adquisición de clientes (CAC) por fuente?"
   ]
  },
  {
   "cell_type": "code",
   "execution_count": null,
   "metadata": {},
   "outputs": [],
   "source": [
    "converted = cohort[~cohort['first_order'].isna()][['Uid']].copy()\n",
    "\n",
    "acquisition = visits.sort_values('Start Ts').groupby('Uid')['source_id'].first().rename('acquisition_source').reset_index()\n",
    "converted = converted.merge(acquisition, on='Uid', how='left')\n",
    "\n",
    "customers_by_source = converted.groupby('acquisition_source')['Uid'].nunique().reset_index().rename(columns={'Uid':'customers'})\n",
    "spend_by_source_renamed = spend_by_source.rename(columns={'source_id':'acquisition_source'})\n",
    "cac = spend_by_source_renamed.merge(customers_by_source, on='acquisition_source', how='left')\n",
    "cac['customers'] = cac['customers'].fillna(0).astype(int)\n",
    "\n",
    "cac['CAC'] = cac.apply(lambda r: (r['total_cost'] / r['customers']) if r['customers']>0 else np.nan, axis=1)\n",
    "display(cac.sort_values('CAC').head(20))"
   ]
  },
  {
   "cell_type": "markdown",
   "metadata": {},
   "source": [
    "### 3. ¿Cuán rentables eran las inversiones? (ROMI)"
   ]
  },
  {
   "cell_type": "code",
   "execution_count": null,
   "metadata": {},
   "outputs": [],
   "source": [
    "orders_with_source = orders.merge(acquisition, on='Uid', how='left')\n",
    "revenue_by_source = orders_with_source.groupby('acquisition_source')['Revenue'].sum().reset_index().rename(columns={'Revenue':'revenue'})\n",
    "\n",
    "romi = spend_by_source_renamed.merge(revenue_by_source, on='acquisition_source', how='left')\n",
    "romi['revenue'] = romi['revenue'].fillna(0)\n",
    "romi['ROMI'] = romi.apply(lambda r: (r['revenue'] - r['total_cost'])/r['total_cost'] if r['total_cost']>0 else np.nan, axis=1)\n",
    "\n",
    "display(romi.sort_values('ROMI', ascending=False).head(20))"
   ]
  },
  {
   "cell_type": "markdown",
   "metadata": {},
   "source": [
    "### Visualizaciones comparativas"
   ]
  },
  {
   "cell_type": "code",
   "execution_count": null,
   "metadata": {},
   "outputs": [],
   "source": [
    "\n",
    "def annotate_bars(ax):\n",
    "    for p in ax.patches:\n",
    "        h = p.get_height()\n",
    "        if np.isfinite(h) and h>0:\n",
    "            ax.annotate(f'{h:,.0f}', (p.get_x()+p.get_width()/2., h), ha='center', va='bottom', fontsize=8, rotation=0, xytext=(0,3), textcoords='offset points')\n",
    "\n",
    "\n",
    "top_spend = spend_by_source.sort_values('total_cost', ascending=False).head(10)\n",
    "fig, ax = plt.subplots(figsize=(10,4))\n",
    "ax.bar(top_spend['source_id'], top_spend['total_cost'])\n",
    "ax.set_title('Gasto total por fuente (top 10)')\n",
    "ax.set_xlabel('Fuente')\n",
    "ax.set_ylabel('Gasto total ($)')\n",
    "plt.xticks(rotation=45, ha='right')\n",
    "annotate_bars(ax)\n",
    "plt.tight_layout()\n",
    "plt.show()\n",
    "\n",
    "\n",
    "cac_plot = cac[~cac['CAC'].isna()].sort_values('CAC', ascending=True).head(10)\n",
    "fig, ax = plt.subplots(figsize=(10,4))\n",
    "ax.bar(cac_plot['acquisition_source'], cac_plot['CAC'])\n",
    "ax.set_title('CAC por fuente (top 10 menor CAC)')\n",
    "ax.set_xlabel('Fuente')\n",
    "ax.set_ylabel('CAC ($)')\n",
    "plt.xticks(rotation=45, ha='right')\n",
    "annotate_bars(ax)\n",
    "plt.tight_layout()\n",
    "plt.show()\n",
    "\n",
    "\n",
    "romi_plot = romi.sort_values('ROMI', ascending=False).head(10)\n",
    "fig, ax = plt.subplots(figsize=(10,4))\n",
    "ax.bar(romi_plot['acquisition_source'], romi_plot['ROMI'])\n",
    "ax.set_title('ROMI por fuente (top 10)')\n",
    "ax.set_xlabel('Fuente')\n",
    "ax.set_ylabel('ROMI (ratio)')\n",
    "plt.xticks(rotation=45, ha='right')\n",
    "# Anotar romi en formato porcentaje\n",
    "for p in ax.patches:\n",
    "    val = p.get_height()\n",
    "    if np.isfinite(val):\n",
    "        ax.annotate(f'{val:.2f}', (p.get_x()+p.get_width()/2., val), ha='center', va='bottom', fontsize=8, xytext=(0,3), textcoords='offset points')\n",
    "plt.tight_layout()\n",
    "plt.show()"
   ]
  },
  {
   "cell_type": "markdown",
   "metadata": {},
   "source": [
    "## Paso 3 — Conclusiones y recomendaciones para inversión en marketing"
   ]
  }
 ],
 "metadata": {
  "kernelspec": {
   "display_name": "Python 3 (ipykernel)",
   "language": "python",
   "name": "python3"
  },
  "language_info": {
   "codemirror_mode": {
    "name": "ipython",
    "version": 3
   },
   "file_extension": ".py",
   "mimetype": "text/x-python",
   "name": "python",
   "nbconvert_exporter": "python",
   "pygments_lexer": "ipython3",
   "version": "3.9.23"
  }
 },
 "nbformat": 4,
 "nbformat_minor": 4
}
